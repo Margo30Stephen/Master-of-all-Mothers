{
 "cells": [
  {
   "cell_type": "markdown",
   "id": "0ec6e7dc",
   "metadata": {},
   "source": [
    "# Read the excel of gthe timetable"
   ]
  },
  {
   "cell_type": "code",
   "execution_count": null,
   "id": "e17b80b2",
   "metadata": {},
   "outputs": [],
   "source": [
    "import pandas as pd\n",
    "path =r\"C:\\Users\\apawar18\\Downloads\\TimeTable.xlsx\"\n",
    "# read by default 1st sheet of an excel file\n",
    "dataframe1 = pd.read_excel(path)\n",
    "print(dataframe1)"
   ]
  },
  {
   "cell_type": "markdown",
   "id": "bd644caa",
   "metadata": {},
   "source": [
    "# Done feedback button"
   ]
  },
  {
   "cell_type": "code",
   "execution_count": null,
   "id": "752eda26",
   "metadata": {},
   "outputs": [],
   "source": [
    "import RPi.GPIO as GPIO #raspberry pi library to connect with GPIO's\n",
    "feedback_df = pd.DataFrame(columns=['Task', 'Feedback']) # dataframe to store the feedback from the user if the task is completed or not\n",
    "GPIO.setmode(GPIO.BCM)\n",
    "GPIO.setup(5, GPIO.IN, pull_up_down=GPIO.PUD_UP) #setup of the GPIO pin\n",
    "feedback = \"Not Done\" #by default feedback is set to not done\n",
    "def feedback_function(channel): #function to record the feedback for every task\n",
    "    global feedback\n",
    "    current_time = datetime.datetime.now().time() \n",
    "    task=None\n",
    "    if GPIO.input(5):\n",
    "        feedback = \"Done\"\n",
    "        if dataframe1[\"Start Time\"][0]<= current_time < dataframe1[\"End Time\"][0]: # if statement to store the feedback for a particular task\n",
    "            task=dataframe1[\"Task\"][0]\n",
    "            feedback_df.loc[len(feedback_df)]= [task, feedback]\n",
    "        elif dataframe1[\"Start Time\"][1]<= current_time < dataframe1[\"End Time\"][1]:\n",
    "            task=dataframe1[\"Task\"][1]\n",
    "            feedback_df.loc[len(feedback_df)]= [task, feedback]\n",
    "        elif dataframe1[\"Start Time\"][2]<= current_time < dataframe1[\"End Time\"][2]:\n",
    "            task=dataframe1[\"Task\"][2]\n",
    "            feedback_df.loc[len(feedback_df)]= [task, feedback]\n",
    "        elif dataframe1[\"Start Time\"][3]<= current_time < dataframe1[\"End Time\"][3]:\n",
    "            task=dataframe1[\"Task\"][3]\n",
    "            feedback_df.loc[len(feedback_df)]= [task, feedback]\n",
    "        elif dataframe1[\"Start Time\"][4]<= current_time < dataframe1[\"End Time\"][4]:\n",
    "            task=dataframe1[\"Task\"][4]\n",
    "            feedback_df.loc[len(feedback_df)]= [task, feedback]\n",
    "        elif dataframe1[\"Start Time\"][5]<= current_time < dataframe1[\"End Time\"][5]:\n",
    "            task=dataframe1[\"Task\"][5]\n",
    "            feedback_df.loc[len(feedback_df)]= [task, feedback]\n",
    "        elif dataframe1[\"Start Time\"][6]<= current_time < dataframe1[\"End Time\"][6]:\n",
    "            task=dataframe1[\"Task\"][6]\n",
    "            feedback_df.loc[len(feedback_df)]= [task, feedback]\n",
    "        elif dataframe1[\"Start Time\"][7]<= current_time < dataframe1[\"End Time\"][7]:\n",
    "            task=dataframe1[\"Task\"][7]\n",
    "            feedback_df.loc[len(feedback_df)]= [task, feedback]\n",
    "        elif dataframe1[\"Start Time\"][8]<= current_time < dataframe1[\"End Time\"][8]:\n",
    "            task=dataframe1[\"Task\"][8]\n",
    "            feedback_df.loc[len(feedback_df)]= [task, feedback]\n",
    "        elif dataframe1[\"Start Time\"][9]<= current_time < dataframe1[\"End Time\"][9]:\n",
    "            task=dataframe1[\"Task\"][9]\n",
    "            feedback_df.loc[len(feedback_df)]= [task, feedback]\n",
    "        elif dataframe1[\"Start Time\"][10]<= current_time < dataframe1[\"End Time\"][10]:\n",
    "            task=dataframe1[\"Task\"][10]\n",
    "            feedback_df.loc[len(feedback_df)]= [task, feedback]\n",
    "        "
   ]
  },
  {
   "cell_type": "markdown",
   "id": "efe558d5",
   "metadata": {},
   "source": [
    "# Text to Speech "
   ]
  },
  {
   "cell_type": "code",
   "execution_count": 17,
   "id": "e22de90a",
   "metadata": {},
   "outputs": [],
   "source": [
    "import pyttsx3  #text to speech library in python\n",
    "\n",
    "text_speech = pyttsx3.init() #initialize\n",
    "text_speech.setProperty('rate', 100) #speed of the voice\n",
    "voices = text_speech.getProperty('voices')\n",
    "text_speech.setProperty('voice', voices[1].id) #by default the voice is of a man, here we are changing it to a woman voice\n"
   ]
  },
  {
   "cell_type": "markdown",
   "id": "28afd617",
   "metadata": {},
   "source": [
    "# Scheduling timetable"
   ]
  },
  {
   "cell_type": "code",
   "execution_count": null,
   "id": "da136a3e",
   "metadata": {},
   "outputs": [],
   "source": [
    "# Schedule Library imported\n",
    "import schedule\n",
    "import time\n",
    "\n",
    "# Functions setup\n",
    "def job1(): \n",
    "\ttext_speech.say(dataframe1[\"Task\"][0])\n",
    "\n",
    "def job2():\n",
    "\ttext_speech.say(dataframe1[\"Task\"][1])\n",
    "\n",
    "def job3():\n",
    "\ttext_speech.say(dataframe1[\"Task\"][2])\n",
    "\n",
    "def job4():\n",
    "\ttext_speech.say(dataframe1[\"Task\"][3])\n",
    "    \n",
    "def job5():\n",
    "\ttext_speech.say(dataframe1[\"Task\"][4])\n",
    "    \n",
    "def job6():\n",
    "\ttext_speech.say(dataframe1[\"Task\"][5])\n",
    "    \n",
    "def job7():\n",
    "\ttext_speech.say(dataframe1[\"Task\"][6])\n",
    "    \n",
    "def job8():\n",
    "\ttext_speech.say(dataframe1[\"Task\"][7])\n",
    "    \n",
    "def job9():\n",
    "\ttext_speech.say(dataframe1[\"Task\"][8])\n",
    "    \n",
    "def job10():\n",
    "\ttext_speech.say(dataframe1[\"Task\"][9])\n",
    "    \n",
    "def job11():\n",
    "\ttext_speech.say(dataframe1[\"Task\"][10])\n",
    "    \n",
    "def job12(): #persolnalize the code by putting in weak traits that you want to improve\n",
    "\ttext_speech.say('Sit Straight')\n",
    "    \n",
    "def job13():\n",
    "\ttext_speech.say('Pray to God')\n",
    "\n",
    "schedule.every(2).hours.do(job12) #every 2 hour this task will be called\n",
    "schedule.every().day.at(\"06:45\").do(job13)# at exactly 6:45 am this task will be called\n",
    "\n",
    "schedule.every().day.at(dataframe1[\"Start Time\"][0].strftime(\"%X\")).do(job1) #every job as per the person's excel sheet is initialized\n",
    "GPIO.add_event_detect(5, GPIO.BOTH, callback=feedback_function, bouncetime=300) # asking for a input from the person to keep tab\n",
    "schedule.every().day.at(dataframe1[\"Start Time\"][1].strftime(\"%X\")).do(job2)\n",
    "GPIO.add_event_detect(5, GPIO.BOTH, callback=feedback_function, bouncetime=300)\n",
    "schedule.every().day.at(dataframe1[\"Start Time\"][2].strftime(\"%X\")).do(job3)\n",
    "GPIO.add_event_detect(5, GPIO.BOTH, callback=feedback_function, bouncetime=300)\n",
    "schedule.every().day.at(dataframe1[\"Start Time\"][3].strftime(\"%X\")).do(job4)\n",
    "GPIO.add_event_detect(5, GPIO.BOTH, callback=feedback_function, bouncetime=300)\n",
    "schedule.every().day.at(dataframe1[\"Start Time\"][4].strftime(\"%X\")).do(job5)\n",
    "GPIO.add_event_detect(5, GPIO.BOTH, callback=feedback_function, bouncetime=300)\n",
    "schedule.every().day.at(dataframe1[\"Start Time\"][5].strftime(\"%X\")).do(job6)\n",
    "GPIO.add_event_detect(5, GPIO.BOTH, callback=feedback_function, bouncetime=300)\n",
    "schedule.every().day.at(dataframe1[\"Start Time\"][6].strftime(\"%X\")).do(job7)\n",
    "GPIO.add_event_detect(5, GPIO.BOTH, callback=feedback_function, bouncetime=300)\n",
    "schedule.every().day.at(dataframe1[\"Start Time\"][7].strftime(\"%X\")).do(job8)\n",
    "GPIO.add_event_detect(5, GPIO.BOTH, callback=feedback_function, bouncetime=300)\n",
    "schedule.every().day.at(dataframe1[\"Start Time\"][8].strftime(\"%X\")).do(job9)\n",
    "GPIO.add_event_detect(5, GPIO.BOTH, callback=feedback_function, bouncetime=300)\n",
    "schedule.every().day.at(dataframe1[\"Start Time\"][9].strftime(\"%X\")).do(job10)\n",
    "GPIO.add_event_detect(5, GPIO.BOTH, callback=feedback_function, bouncetime=300)\n",
    "schedule.every().day.at(dataframe1[\"Start Time\"][10].strftime(\"%X\")).do(job11)\n",
    "GPIO.add_event_detect(5, GPIO.BOTH, callback=feedback_function, bouncetime=300)\n",
    "\n",
    "\n",
    "# Loop so that the scheduling task\n",
    "# keeps on running all time.\n",
    "while True:\n",
    "\n",
    "\t# Checks whether a scheduled task\n",
    "\t# is pending to run or not\n",
    "\tschedule.run_pending()\n",
    "\ttime.sleep(1) #to save CPU processing "
   ]
  },
  {
   "cell_type": "markdown",
   "id": "ef3e6285",
   "metadata": {},
   "source": [
    "# I am stressed button function"
   ]
  },
  {
   "cell_type": "markdown",
   "id": "ff3cc798",
   "metadata": {},
   "source": [
    "### A lullaby helps me calm down. My mother and grandfather used to sing this to me. "
   ]
  },
  {
   "cell_type": "code",
   "execution_count": null,
   "id": "25a74253",
   "metadata": {},
   "outputs": [],
   "source": [
    "import pygame #to play a song which pygame library\n",
    "\n",
    "GPIO.setup(6, GPIO.IN, pull_up_down=GPIO.PUD_UP) #setup GPIO pin with a push button\n",
    "pygame.mixer.init()\n",
    "sound=pygame.mixer.music.load(\"Fav.mp3\")#music because sound function dosent work for mp3 sounds\n",
    "\n",
    "def button_press(channel):\n",
    "    if GPIO.input(6):\n",
    "        sound.play()\n",
    "        \n",
    "GPIO.add_event_detect(6, GPIO.BOTH, callback=button_press, bouncetime=300)\n",
    "\n",
    "\n",
    "while True:\n",
    "    pass"
   ]
  },
  {
   "cell_type": "markdown",
   "id": "addb5953",
   "metadata": {},
   "source": [
    "# I am going out button function"
   ]
  },
  {
   "cell_type": "markdown",
   "id": "90f51afb",
   "metadata": {},
   "source": [
    "### I forget basic stuff while going out, so this helps me remember the important stuff"
   ]
  },
  {
   "cell_type": "code",
   "execution_count": null,
   "id": "7cde8afb",
   "metadata": {},
   "outputs": [],
   "source": [
    "GPIO.setup(26, GPIO.IN, pull_up_down=GPIO.PUD_UP) #setup GPIO pin with push button\n",
    "def button_press2(channel):\n",
    "    if GPIO.input(26):\n",
    "        text = \"Make sure you have taken the house keys, card and cash. Check if you have turned the stove off and take something to eat. Have fun. Bye.\" #customize this statement as you want\n",
    "        text_speech.say(text)\n",
    "        text_speech.runAndWait()\n",
    "        \n",
    "GPIO.add_event_detect(26, GPIO.BOTH, callback=button_press2, bouncetime=300)\n",
    "\n",
    "while True:\n",
    "    pass\n",
    "\n"
   ]
  },
  {
   "cell_type": "markdown",
   "id": "d9be7ea0",
   "metadata": {},
   "source": [
    "# Data Visualization"
   ]
  },
  {
   "cell_type": "markdown",
   "id": "a92d320d",
   "metadata": {},
   "source": [
    "### Helps to visualize your progress from the stored feedback"
   ]
  },
  {
   "cell_type": "code",
   "execution_count": null,
   "id": "5760b427",
   "metadata": {},
   "outputs": [],
   "source": [
    "feedback_df.to_excel('feedback.xlsx', index=False) #convert the dataframe to excel file"
   ]
  },
  {
   "cell_type": "code",
   "execution_count": null,
   "id": "b3290c86",
   "metadata": {},
   "outputs": [],
   "source": [
    "dataframe2 = pd.read_excel('feedback.xlsx') #loads the excel sheet to analyze\n",
    "print(dataframe2)"
   ]
  },
  {
   "cell_type": "code",
   "execution_count": null,
   "id": "20173f69",
   "metadata": {},
   "outputs": [],
   "source": [
    "grouped = dataframe2.groupby('Task') #group the same tasks from the excel sheet\n",
    "\n",
    "for name, group in grouped:\n",
    "    print(f\"Event {name}:\")\n",
    "    print(group)"
   ]
  },
  {
   "cell_type": "code",
   "execution_count": 27,
   "id": "c116483e",
   "metadata": {},
   "outputs": [
    {
     "name": "stdout",
     "output_type": "stream",
     "text": [
      "                                  Task  Done  Not Done\n",
      "0                 Bath and do skincare     5         2\n",
      "1                          Cook Dinner     6         1\n",
      "2                           Cook Lunch     4         3\n",
      "3            Eat and plan the next day     6         1\n",
      "4              Eat and reply to emails     3         4\n",
      "5            Pack stuff and go to work     5         2\n",
      "6                                Sleep     4         3\n",
      "7    Talk to mom and eat eat breakfast     6         1\n",
      "8  Walk or Exercise or Play Basketball     2         5\n",
      "9                                 Work    11         3\n"
     ]
    }
   ],
   "source": [
    "grouped_df = dataframe2.groupby('Task')['Feedback'].value_counts().unstack().fillna(0) #visualize the tasks by cumilating the done and not done instances\n",
    "grouped.columns = ['Task', 'Done', 'Not Done']\n",
    "print(grouped)"
   ]
  },
  {
   "cell_type": "code",
   "execution_count": 28,
   "id": "8cc0a6ae",
   "metadata": {},
   "outputs": [
    {
     "data": {
      "image/png": "[encoded data removed]",
      "text/plain": [
       "<Figure size 640x480 with 1 Axes>"
      ]
     },
     "metadata": {},
     "output_type": "display_data"
    }
   ],
   "source": [
    "ax = grouped.plot.bar(rot=0) #plot the data\n",
    "ax.set_title('Feedback for each event')\n",
    "ax.set_xlabel('Event')\n",
    "ax.set_ylabel('Number of Feedback')\n",
    "plt.show()"
   ]
  }
 ],
 "metadata": {
  "kernelspec": {
   "display_name": "Python 3 (ipykernel)",
   "language": "python",
   "name": "python3"
  },
  "language_info": {
   "codemirror_mode": {
    "name": "ipython",
    "version": 3
   },
   "file_extension": ".py",
   "mimetype": "text/x-python",
   "name": "python",
   "nbconvert_exporter": "python",
   "pygments_lexer": "ipython3",
   "version": "3.9.13"
  }
 },
 "nbformat": 4,
 "nbformat_minor": 5
}
